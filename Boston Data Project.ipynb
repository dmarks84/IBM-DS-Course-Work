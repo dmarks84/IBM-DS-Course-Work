{
 "cells": [
  {
   "cell_type": "code",
   "execution_count": 1,
   "id": "edeb25e0",
   "metadata": {},
   "outputs": [],
   "source": [
    "# Import necessary packages/libraries\n",
    "import pandas as pd\n",
    "import numpy as np\n",
    "import seaborn as sns\n",
    "import matplotlib.pyplot as plt \n",
    "import statsmodels.api as sm\n",
    "import scipy"
   ]
  },
  {
   "cell_type": "markdown",
   "id": "a8f68cf6",
   "metadata": {},
   "source": [
    "# Task 1 - Data Familiarization"
   ]
  },
  {
   "cell_type": "markdown",
   "id": "4bf8e10f",
   "metadata": {},
   "source": [
    "- **CRIM** - per capita crime rate by town\n",
    "- **ZN** - proportion of residential land zoned for lots over 25,000 sq.ft.\n",
    "- **INDUS** - proportion of non-retail business acres per town.\n",
    "- **CHAS** - Charles River dummy variable (1 if tract bounds river; 0 otherwise)\n",
    "- **NOX** - nitric oxides concentration (parts per 10 million)\n",
    "- **RM** - average number of rooms per dwelling\n",
    "- **AGE** - proportion of owner-occupied units built prior to 1940\n",
    "- **DIS** - weighted distances to five Boston employment centres\n",
    "- **RAD** - index of accessibility to radial highways\n",
    "- **TAX** - full-value property-tax rate per \\\\$10,000\n",
    "- **PTRATIO** - pupil-teacher ratio by town\n",
    "- **LSTAT** - % lower status of the population\n",
    "- **MEDV** - Median value of owner-occupied homes in $1000's"
   ]
  },
  {
   "cell_type": "markdown",
   "id": "4d99a1c3",
   "metadata": {},
   "source": [
    "# Task 2 - Watson Studio"
   ]
  },
  {
   "cell_type": "markdown",
   "id": "5de4be37",
   "metadata": {},
   "source": [
    "##### Taks not needed to complete assignment; skipped"
   ]
  },
  {
   "cell_type": "markdown",
   "id": "a38b4a99",
   "metadata": {},
   "source": [
    "# Task 3 - Import Data"
   ]
  },
  {
   "cell_type": "code",
   "execution_count": 2,
   "id": "f42a7ee3",
   "metadata": {},
   "outputs": [
    {
     "data": {
      "text/html": [
       "<div>\n",
       "<style scoped>\n",
       "    .dataframe tbody tr th:only-of-type {\n",
       "        vertical-align: middle;\n",
       "    }\n",
       "\n",
       "    .dataframe tbody tr th {\n",
       "        vertical-align: top;\n",
       "    }\n",
       "\n",
       "    .dataframe thead th {\n",
       "        text-align: right;\n",
       "    }\n",
       "</style>\n",
       "<table border=\"1\" class=\"dataframe\">\n",
       "  <thead>\n",
       "    <tr style=\"text-align: right;\">\n",
       "      <th></th>\n",
       "      <th>CRIM</th>\n",
       "      <th>ZN</th>\n",
       "      <th>INDUS</th>\n",
       "      <th>CHAS</th>\n",
       "      <th>NOX</th>\n",
       "      <th>RM</th>\n",
       "      <th>AGE</th>\n",
       "      <th>DIS</th>\n",
       "      <th>RAD</th>\n",
       "      <th>TAX</th>\n",
       "      <th>PTRATIO</th>\n",
       "      <th>LSTAT</th>\n",
       "      <th>MEDV</th>\n",
       "    </tr>\n",
       "  </thead>\n",
       "  <tbody>\n",
       "    <tr>\n",
       "      <th>0</th>\n",
       "      <td>0.00632</td>\n",
       "      <td>18.0</td>\n",
       "      <td>2.31</td>\n",
       "      <td>0.0</td>\n",
       "      <td>0.538</td>\n",
       "      <td>6.575</td>\n",
       "      <td>65.2</td>\n",
       "      <td>4.0900</td>\n",
       "      <td>1.0</td>\n",
       "      <td>296.0</td>\n",
       "      <td>15.3</td>\n",
       "      <td>4.98</td>\n",
       "      <td>24.0</td>\n",
       "    </tr>\n",
       "    <tr>\n",
       "      <th>1</th>\n",
       "      <td>0.02731</td>\n",
       "      <td>0.0</td>\n",
       "      <td>7.07</td>\n",
       "      <td>0.0</td>\n",
       "      <td>0.469</td>\n",
       "      <td>6.421</td>\n",
       "      <td>78.9</td>\n",
       "      <td>4.9671</td>\n",
       "      <td>2.0</td>\n",
       "      <td>242.0</td>\n",
       "      <td>17.8</td>\n",
       "      <td>9.14</td>\n",
       "      <td>21.6</td>\n",
       "    </tr>\n",
       "    <tr>\n",
       "      <th>2</th>\n",
       "      <td>0.02729</td>\n",
       "      <td>0.0</td>\n",
       "      <td>7.07</td>\n",
       "      <td>0.0</td>\n",
       "      <td>0.469</td>\n",
       "      <td>7.185</td>\n",
       "      <td>61.1</td>\n",
       "      <td>4.9671</td>\n",
       "      <td>2.0</td>\n",
       "      <td>242.0</td>\n",
       "      <td>17.8</td>\n",
       "      <td>4.03</td>\n",
       "      <td>34.7</td>\n",
       "    </tr>\n",
       "    <tr>\n",
       "      <th>3</th>\n",
       "      <td>0.03237</td>\n",
       "      <td>0.0</td>\n",
       "      <td>2.18</td>\n",
       "      <td>0.0</td>\n",
       "      <td>0.458</td>\n",
       "      <td>6.998</td>\n",
       "      <td>45.8</td>\n",
       "      <td>6.0622</td>\n",
       "      <td>3.0</td>\n",
       "      <td>222.0</td>\n",
       "      <td>18.7</td>\n",
       "      <td>2.94</td>\n",
       "      <td>33.4</td>\n",
       "    </tr>\n",
       "    <tr>\n",
       "      <th>4</th>\n",
       "      <td>0.06905</td>\n",
       "      <td>0.0</td>\n",
       "      <td>2.18</td>\n",
       "      <td>0.0</td>\n",
       "      <td>0.458</td>\n",
       "      <td>7.147</td>\n",
       "      <td>54.2</td>\n",
       "      <td>6.0622</td>\n",
       "      <td>3.0</td>\n",
       "      <td>222.0</td>\n",
       "      <td>18.7</td>\n",
       "      <td>5.33</td>\n",
       "      <td>36.2</td>\n",
       "    </tr>\n",
       "    <tr>\n",
       "      <th>...</th>\n",
       "      <td>...</td>\n",
       "      <td>...</td>\n",
       "      <td>...</td>\n",
       "      <td>...</td>\n",
       "      <td>...</td>\n",
       "      <td>...</td>\n",
       "      <td>...</td>\n",
       "      <td>...</td>\n",
       "      <td>...</td>\n",
       "      <td>...</td>\n",
       "      <td>...</td>\n",
       "      <td>...</td>\n",
       "      <td>...</td>\n",
       "    </tr>\n",
       "    <tr>\n",
       "      <th>501</th>\n",
       "      <td>0.06263</td>\n",
       "      <td>0.0</td>\n",
       "      <td>11.93</td>\n",
       "      <td>0.0</td>\n",
       "      <td>0.573</td>\n",
       "      <td>6.593</td>\n",
       "      <td>69.1</td>\n",
       "      <td>2.4786</td>\n",
       "      <td>1.0</td>\n",
       "      <td>273.0</td>\n",
       "      <td>21.0</td>\n",
       "      <td>9.67</td>\n",
       "      <td>22.4</td>\n",
       "    </tr>\n",
       "    <tr>\n",
       "      <th>502</th>\n",
       "      <td>0.04527</td>\n",
       "      <td>0.0</td>\n",
       "      <td>11.93</td>\n",
       "      <td>0.0</td>\n",
       "      <td>0.573</td>\n",
       "      <td>6.120</td>\n",
       "      <td>76.7</td>\n",
       "      <td>2.2875</td>\n",
       "      <td>1.0</td>\n",
       "      <td>273.0</td>\n",
       "      <td>21.0</td>\n",
       "      <td>9.08</td>\n",
       "      <td>20.6</td>\n",
       "    </tr>\n",
       "    <tr>\n",
       "      <th>503</th>\n",
       "      <td>0.06076</td>\n",
       "      <td>0.0</td>\n",
       "      <td>11.93</td>\n",
       "      <td>0.0</td>\n",
       "      <td>0.573</td>\n",
       "      <td>6.976</td>\n",
       "      <td>91.0</td>\n",
       "      <td>2.1675</td>\n",
       "      <td>1.0</td>\n",
       "      <td>273.0</td>\n",
       "      <td>21.0</td>\n",
       "      <td>5.64</td>\n",
       "      <td>23.9</td>\n",
       "    </tr>\n",
       "    <tr>\n",
       "      <th>504</th>\n",
       "      <td>0.10959</td>\n",
       "      <td>0.0</td>\n",
       "      <td>11.93</td>\n",
       "      <td>0.0</td>\n",
       "      <td>0.573</td>\n",
       "      <td>6.794</td>\n",
       "      <td>89.3</td>\n",
       "      <td>2.3889</td>\n",
       "      <td>1.0</td>\n",
       "      <td>273.0</td>\n",
       "      <td>21.0</td>\n",
       "      <td>6.48</td>\n",
       "      <td>22.0</td>\n",
       "    </tr>\n",
       "    <tr>\n",
       "      <th>505</th>\n",
       "      <td>0.04741</td>\n",
       "      <td>0.0</td>\n",
       "      <td>11.93</td>\n",
       "      <td>0.0</td>\n",
       "      <td>0.573</td>\n",
       "      <td>6.030</td>\n",
       "      <td>80.8</td>\n",
       "      <td>2.5050</td>\n",
       "      <td>1.0</td>\n",
       "      <td>273.0</td>\n",
       "      <td>21.0</td>\n",
       "      <td>7.88</td>\n",
       "      <td>11.9</td>\n",
       "    </tr>\n",
       "  </tbody>\n",
       "</table>\n",
       "<p>506 rows × 13 columns</p>\n",
       "</div>"
      ],
      "text/plain": [
       "        CRIM    ZN  INDUS  CHAS    NOX     RM   AGE     DIS  RAD    TAX  \\\n",
       "0    0.00632  18.0   2.31   0.0  0.538  6.575  65.2  4.0900  1.0  296.0   \n",
       "1    0.02731   0.0   7.07   0.0  0.469  6.421  78.9  4.9671  2.0  242.0   \n",
       "2    0.02729   0.0   7.07   0.0  0.469  7.185  61.1  4.9671  2.0  242.0   \n",
       "3    0.03237   0.0   2.18   0.0  0.458  6.998  45.8  6.0622  3.0  222.0   \n",
       "4    0.06905   0.0   2.18   0.0  0.458  7.147  54.2  6.0622  3.0  222.0   \n",
       "..       ...   ...    ...   ...    ...    ...   ...     ...  ...    ...   \n",
       "501  0.06263   0.0  11.93   0.0  0.573  6.593  69.1  2.4786  1.0  273.0   \n",
       "502  0.04527   0.0  11.93   0.0  0.573  6.120  76.7  2.2875  1.0  273.0   \n",
       "503  0.06076   0.0  11.93   0.0  0.573  6.976  91.0  2.1675  1.0  273.0   \n",
       "504  0.10959   0.0  11.93   0.0  0.573  6.794  89.3  2.3889  1.0  273.0   \n",
       "505  0.04741   0.0  11.93   0.0  0.573  6.030  80.8  2.5050  1.0  273.0   \n",
       "\n",
       "     PTRATIO  LSTAT  MEDV  \n",
       "0       15.3   4.98  24.0  \n",
       "1       17.8   9.14  21.6  \n",
       "2       17.8   4.03  34.7  \n",
       "3       18.7   2.94  33.4  \n",
       "4       18.7   5.33  36.2  \n",
       "..       ...    ...   ...  \n",
       "501     21.0   9.67  22.4  \n",
       "502     21.0   9.08  20.6  \n",
       "503     21.0   5.64  23.9  \n",
       "504     21.0   6.48  22.0  \n",
       "505     21.0   7.88  11.9  \n",
       "\n",
       "[506 rows x 13 columns]"
      ]
     },
     "execution_count": 2,
     "metadata": {},
     "output_type": "execute_result"
    }
   ],
   "source": [
    "# Import the data and reformat into a pandas dataframe\n",
    "boston_url = 'https://cf-courses-data.s3.us.cloud-object-storage.appdomain.cloud/IBMDeveloperSkillsNetwork-ST0151EN-SkillsNetwork/labs/boston_housing.csv'\n",
    "boston_df = pd.read_csv(boston_url)\n",
    "boston_df.drop(columns=(boston_df.columns[0]))"
   ]
  },
  {
   "cell_type": "code",
   "execution_count": 3,
   "id": "240f1227",
   "metadata": {},
   "outputs": [
    {
     "data": {
      "text/html": [
       "<div>\n",
       "<style scoped>\n",
       "    .dataframe tbody tr th:only-of-type {\n",
       "        vertical-align: middle;\n",
       "    }\n",
       "\n",
       "    .dataframe tbody tr th {\n",
       "        vertical-align: top;\n",
       "    }\n",
       "\n",
       "    .dataframe thead th {\n",
       "        text-align: right;\n",
       "    }\n",
       "</style>\n",
       "<table border=\"1\" class=\"dataframe\">\n",
       "  <thead>\n",
       "    <tr style=\"text-align: right;\">\n",
       "      <th></th>\n",
       "      <th>Unnamed: 0</th>\n",
       "      <th>CRIM</th>\n",
       "      <th>ZN</th>\n",
       "      <th>INDUS</th>\n",
       "      <th>CHAS</th>\n",
       "      <th>NOX</th>\n",
       "      <th>RM</th>\n",
       "      <th>AGE</th>\n",
       "      <th>DIS</th>\n",
       "      <th>RAD</th>\n",
       "      <th>TAX</th>\n",
       "      <th>PTRATIO</th>\n",
       "      <th>LSTAT</th>\n",
       "      <th>MEDV</th>\n",
       "    </tr>\n",
       "  </thead>\n",
       "  <tbody>\n",
       "    <tr>\n",
       "      <th>0</th>\n",
       "      <td>0</td>\n",
       "      <td>0.00632</td>\n",
       "      <td>18.0</td>\n",
       "      <td>2.31</td>\n",
       "      <td>0.0</td>\n",
       "      <td>0.538</td>\n",
       "      <td>6.575</td>\n",
       "      <td>65.2</td>\n",
       "      <td>4.0900</td>\n",
       "      <td>1.0</td>\n",
       "      <td>296.0</td>\n",
       "      <td>15.3</td>\n",
       "      <td>4.98</td>\n",
       "      <td>24.0</td>\n",
       "    </tr>\n",
       "    <tr>\n",
       "      <th>1</th>\n",
       "      <td>1</td>\n",
       "      <td>0.02731</td>\n",
       "      <td>0.0</td>\n",
       "      <td>7.07</td>\n",
       "      <td>0.0</td>\n",
       "      <td>0.469</td>\n",
       "      <td>6.421</td>\n",
       "      <td>78.9</td>\n",
       "      <td>4.9671</td>\n",
       "      <td>2.0</td>\n",
       "      <td>242.0</td>\n",
       "      <td>17.8</td>\n",
       "      <td>9.14</td>\n",
       "      <td>21.6</td>\n",
       "    </tr>\n",
       "    <tr>\n",
       "      <th>2</th>\n",
       "      <td>2</td>\n",
       "      <td>0.02729</td>\n",
       "      <td>0.0</td>\n",
       "      <td>7.07</td>\n",
       "      <td>0.0</td>\n",
       "      <td>0.469</td>\n",
       "      <td>7.185</td>\n",
       "      <td>61.1</td>\n",
       "      <td>4.9671</td>\n",
       "      <td>2.0</td>\n",
       "      <td>242.0</td>\n",
       "      <td>17.8</td>\n",
       "      <td>4.03</td>\n",
       "      <td>34.7</td>\n",
       "    </tr>\n",
       "    <tr>\n",
       "      <th>3</th>\n",
       "      <td>3</td>\n",
       "      <td>0.03237</td>\n",
       "      <td>0.0</td>\n",
       "      <td>2.18</td>\n",
       "      <td>0.0</td>\n",
       "      <td>0.458</td>\n",
       "      <td>6.998</td>\n",
       "      <td>45.8</td>\n",
       "      <td>6.0622</td>\n",
       "      <td>3.0</td>\n",
       "      <td>222.0</td>\n",
       "      <td>18.7</td>\n",
       "      <td>2.94</td>\n",
       "      <td>33.4</td>\n",
       "    </tr>\n",
       "    <tr>\n",
       "      <th>4</th>\n",
       "      <td>4</td>\n",
       "      <td>0.06905</td>\n",
       "      <td>0.0</td>\n",
       "      <td>2.18</td>\n",
       "      <td>0.0</td>\n",
       "      <td>0.458</td>\n",
       "      <td>7.147</td>\n",
       "      <td>54.2</td>\n",
       "      <td>6.0622</td>\n",
       "      <td>3.0</td>\n",
       "      <td>222.0</td>\n",
       "      <td>18.7</td>\n",
       "      <td>5.33</td>\n",
       "      <td>36.2</td>\n",
       "    </tr>\n",
       "  </tbody>\n",
       "</table>\n",
       "</div>"
      ],
      "text/plain": [
       "   Unnamed: 0     CRIM    ZN  INDUS  CHAS    NOX     RM   AGE     DIS  RAD  \\\n",
       "0           0  0.00632  18.0   2.31   0.0  0.538  6.575  65.2  4.0900  1.0   \n",
       "1           1  0.02731   0.0   7.07   0.0  0.469  6.421  78.9  4.9671  2.0   \n",
       "2           2  0.02729   0.0   7.07   0.0  0.469  7.185  61.1  4.9671  2.0   \n",
       "3           3  0.03237   0.0   2.18   0.0  0.458  6.998  45.8  6.0622  3.0   \n",
       "4           4  0.06905   0.0   2.18   0.0  0.458  7.147  54.2  6.0622  3.0   \n",
       "\n",
       "     TAX  PTRATIO  LSTAT  MEDV  \n",
       "0  296.0     15.3   4.98  24.0  \n",
       "1  242.0     17.8   9.14  21.6  \n",
       "2  242.0     17.8   4.03  34.7  \n",
       "3  222.0     18.7   2.94  33.4  \n",
       "4  222.0     18.7   5.33  36.2  "
      ]
     },
     "execution_count": 3,
     "metadata": {},
     "output_type": "execute_result"
    }
   ],
   "source": [
    "boston_df.head()"
   ]
  },
  {
   "cell_type": "markdown",
   "id": "202b8230",
   "metadata": {},
   "source": [
    "# Task 4 - Statistics & Visualizations"
   ]
  },
  {
   "cell_type": "markdown",
   "id": "0662bc7f",
   "metadata": {},
   "source": [
    "#### 1. Boxplot of \"Median value of owner-occupied homes\""
   ]
  },
  {
   "cell_type": "code",
   "execution_count": 4,
   "id": "2184941d",
   "metadata": {},
   "outputs": [
    {
     "data": {
      "image/png": "[encoded data removed]",
      "text/plain": [
       "<Figure size 640x480 with 1 Axes>"
      ]
     },
     "metadata": {},
     "output_type": "display_data"
    }
   ],
   "source": [
    "# Create plot\n",
    "plot1 = sns.boxplot(y='MEDV', data=boston_df)\n",
    "plot1 = plot1.set(ylabel =\"MEDV in $1k's\",title='Median Value of Owner-Occupied Homes [MEDV]')\n",
    "plt.show()"
   ]
  },
  {
   "cell_type": "code",
   "execution_count": 5,
   "id": "bb8d806c",
   "metadata": {},
   "outputs": [
    {
     "data": {
      "text/plain": [
       "count    506.000000\n",
       "mean      22.532806\n",
       "std        9.197104\n",
       "min        5.000000\n",
       "25%       17.025000\n",
       "50%       21.200000\n",
       "75%       25.000000\n",
       "max       50.000000\n",
       "Name: MEDV, dtype: float64"
      ]
     },
     "execution_count": 5,
     "metadata": {},
     "output_type": "execute_result"
    }
   ],
   "source": [
    "# Review relevant statistics\n",
    "boston_df['MEDV'].describe()"
   ]
  },
  {
   "cell_type": "markdown",
   "id": "58a1800b",
   "metadata": {},
   "source": [
    "##### <span style=\"color:blue\">Explanation of findings:</span>\n",
    "<span style=\"color:blue\">The box plot and summary statistics show that, for the sample of 506 housing tracts/towns, the median price is \\\\$21.2k, and half of the data is found between \\\\$17.0k and \\\\$25.0k.  The average home price is ~\\\\$22.5k, with a standard deviation of ~\\\\$9.2k. There are numerous outliers on the higher end of the data, with a small number on the lower end.  The range of homes prices spans a \"length\" of \\\\$45k.</span>"
   ]
  },
  {
   "cell_type": "markdown",
   "id": "30b0f7d1",
   "metadata": {},
   "source": [
    "#### 2. Bar Plot of Charles river variable"
   ]
  },
  {
   "cell_type": "code",
   "execution_count": 6,
   "id": "58a89578",
   "metadata": {},
   "outputs": [
    {
     "data": {
      "image/png": "[encoded data removed]",
      "text/plain": [
       "<Figure size 500x500 with 1 Axes>"
      ]
     },
     "metadata": {},
     "output_type": "display_data"
    },
    {
     "name": "stdout",
     "output_type": "stream",
     "text": [
      "Number Bordering: 35 ( 6.92 %)\n",
      "Number Not Bordering: 471 ( 93.08 %)\n"
     ]
    }
   ],
   "source": [
    "# Create plot\n",
    "plot2 = sns.catplot(x='CHAS', kind='count', data=boston_df[['CHAS']].replace({1:\"Yes\",0:\"No\"}))\n",
    "plot2 = plot2.set(ylabel =\"Number of Homes\", title='Number of Homes That \\n Do and Do Not Border the Charles River')\n",
    "plt.show()\n",
    "\n",
    "# Focus on relevant statistics\n",
    "nb = boston_df[boston_df['CHAS']==1]['CHAS'].count()\n",
    "nnb = boston_df[boston_df['CHAS']==0]['CHAS'].count()\n",
    "print(\"Number Bordering:\",nb,\"(\",round(nb/(nb+nnb)*100,2),\"%)\")\n",
    "print(\"Number Not Bordering:\",nnb,\"(\",round(nnb/(nb+nnb)*100,2),\"%)\")"
   ]
  },
  {
   "cell_type": "markdown",
   "id": "28a77686",
   "metadata": {},
   "source": [
    "##### <span style=\"color:blue\">Explanation of findings:</span>\n",
    "<span style=\"color:blue\">The chart and summary count statistics shows that there are very few housing tracts (35, or less than 7%) in the sample that border the Charles River; the vast majority (471, or ~93%) do not.\n",
    "</span>"
   ]
  },
  {
   "cell_type": "markdown",
   "id": "f7efe968",
   "metadata": {},
   "source": [
    "### 3. Box Plot of MEDV variable vs the (discretized) AGE variable"
   ]
  },
  {
   "cell_type": "code",
   "execution_count": 7,
   "id": "a29a0e58",
   "metadata": {},
   "outputs": [],
   "source": [
    "# Discretize the age variable into three groups of 35 years and younger, \n",
    "# between 35 and 70 years and 70 years and older)\n",
    "boston_df.loc[(boston_df['AGE'] <= 35), 'age_group'] = 'Less than 35'\n",
    "boston_df.loc[(boston_df['AGE'] > 35) & (boston_df['AGE'] < 70), 'age_group'] = '35 to 70'\n",
    "boston_df.loc[(boston_df['AGE'] >= 70), 'age_group'] = 'Greater than 70'"
   ]
  },
  {
   "cell_type": "code",
   "execution_count": 8,
   "id": "81f063fb",
   "metadata": {},
   "outputs": [
    {
     "data": {
      "image/png": "[encoded data removed]",
      "text/plain": [
       "<Figure size 640x480 with 1 Axes>"
      ]
     },
     "metadata": {},
     "output_type": "display_data"
    }
   ],
   "source": [
    "# Create plot\n",
    "plot3 = sns.boxplot(x=\"age_group\", y=\"MEDV\", data=boston_df)\n",
    "plot3.set(xlabel=\"Age of Home (Years)\", ylabel=\"Median Home Value ($ks)\",\n",
    "          title='Median Home Value of Owner-Occupied Homes \\nvs. Age of Home')\n",
    "plt.show()"
   ]
  },
  {
   "cell_type": "code",
   "execution_count": 9,
   "id": "0578a109",
   "metadata": {},
   "outputs": [
    {
     "data": {
      "text/html": [
       "<div>\n",
       "<style scoped>\n",
       "    .dataframe tbody tr th:only-of-type {\n",
       "        vertical-align: middle;\n",
       "    }\n",
       "\n",
       "    .dataframe tbody tr th {\n",
       "        vertical-align: top;\n",
       "    }\n",
       "\n",
       "    .dataframe thead th {\n",
       "        text-align: right;\n",
       "    }\n",
       "</style>\n",
       "<table border=\"1\" class=\"dataframe\">\n",
       "  <thead>\n",
       "    <tr style=\"text-align: right;\">\n",
       "      <th></th>\n",
       "      <th>count</th>\n",
       "      <th>mean</th>\n",
       "      <th>std</th>\n",
       "      <th>min</th>\n",
       "      <th>25%</th>\n",
       "      <th>50%</th>\n",
       "      <th>75%</th>\n",
       "      <th>max</th>\n",
       "    </tr>\n",
       "    <tr>\n",
       "      <th>age_group</th>\n",
       "      <th></th>\n",
       "      <th></th>\n",
       "      <th></th>\n",
       "      <th></th>\n",
       "      <th></th>\n",
       "      <th></th>\n",
       "      <th></th>\n",
       "      <th></th>\n",
       "    </tr>\n",
       "  </thead>\n",
       "  <tbody>\n",
       "    <tr>\n",
       "      <th>35 to 70</th>\n",
       "      <td>128.0</td>\n",
       "      <td>24.947656</td>\n",
       "      <td>6.969370</td>\n",
       "      <td>10.2</td>\n",
       "      <td>20.675</td>\n",
       "      <td>22.6</td>\n",
       "      <td>27.425</td>\n",
       "      <td>50.0</td>\n",
       "    </tr>\n",
       "    <tr>\n",
       "      <th>Greater than 70</th>\n",
       "      <td>287.0</td>\n",
       "      <td>19.793380</td>\n",
       "      <td>9.515375</td>\n",
       "      <td>5.0</td>\n",
       "      <td>13.800</td>\n",
       "      <td>18.2</td>\n",
       "      <td>22.550</td>\n",
       "      <td>50.0</td>\n",
       "    </tr>\n",
       "    <tr>\n",
       "      <th>Less than 35</th>\n",
       "      <td>91.0</td>\n",
       "      <td>27.775824</td>\n",
       "      <td>7.638198</td>\n",
       "      <td>17.1</td>\n",
       "      <td>23.050</td>\n",
       "      <td>24.8</td>\n",
       "      <td>31.150</td>\n",
       "      <td>50.0</td>\n",
       "    </tr>\n",
       "  </tbody>\n",
       "</table>\n",
       "</div>"
      ],
      "text/plain": [
       "                 count       mean       std   min     25%   50%     75%   max\n",
       "age_group                                                                    \n",
       "35 to 70         128.0  24.947656  6.969370  10.2  20.675  22.6  27.425  50.0\n",
       "Greater than 70  287.0  19.793380  9.515375   5.0  13.800  18.2  22.550  50.0\n",
       "Less than 35      91.0  27.775824  7.638198  17.1  23.050  24.8  31.150  50.0"
      ]
     },
     "execution_count": 9,
     "metadata": {},
     "output_type": "execute_result"
    }
   ],
   "source": [
    "# View relevant statistics\n",
    "age_groups = list(boston_df['age_group'].unique())\n",
    "boston_df.groupby('age_group').agg('MEDV').describe()"
   ]
  },
  {
   "cell_type": "markdown",
   "id": "f0efbad3",
   "metadata": {},
   "source": [
    "##### <span style=\"color:blue\">Explanation of findings:</span>\n",
    "<span style=\"color:blue\">The age variable does appear to have an effect on the median home value in a given tract.  We can see that as the housing tract gets older, its average of the median home values decreases, as does the median (of the median home values).  It is no surprise that older homes/housing tracts are not worth quite as much.  The quarter ranges start and end higher in an absolute sense the younger the age group, but the variance and IQR are tighter for the middle age group compared to the youngest and oldest groups.</span>"
   ]
  },
  {
   "cell_type": "markdown",
   "id": "285dcfff",
   "metadata": {},
   "source": [
    "### 4. Scatter plot - Proportion of non-retail business acres per town vs. Nitric Oxide Concentrations"
   ]
  },
  {
   "cell_type": "code",
   "execution_count": 10,
   "id": "f6b6d253",
   "metadata": {},
   "outputs": [
    {
     "data": {
      "image/png": "[encoded data removed]",
      "text/plain": [
       "<Figure size 640x480 with 1 Axes>"
      ]
     },
     "metadata": {},
     "output_type": "display_data"
    }
   ],
   "source": [
    "# Create plot\n",
    "plot4 = sns.scatterplot(x='NOX', y='INDUS', data=boston_df)\n",
    "plot4.set(ylabel=\"PoNRBApT\", xlabel=\"NOX Concentrations (pp10m)\",\n",
    "          title='Proportion of Non-Retail Business Acres per Town (PoNRBApT) \\nvs. Nitric Oxide Concentrations')\n",
    "plt.show()"
   ]
  },
  {
   "cell_type": "markdown",
   "id": "18f1d19d",
   "metadata": {},
   "source": [
    "##### <span style=\"color:blue\">Explanation of findings:</span>\n",
    "<span style=\"color:blue\">The Proportion of Non-Retail Business Acres per Town (PoNRBApT) does appears to be positively (and roughly linearly) correlated with NOX concentrations.  That is, the higher the NOX concentartion, the higher the proportion of the town that is non-retail business acres. If any causation exists, it is likely not captured by this graph.  I would suspect that NOX conentrations are in fact a product of increases non-retail business activities; in other words, they are an indicator and not a culprit.</span>"
   ]
  },
  {
   "cell_type": "markdown",
   "id": "ee03710f",
   "metadata": {},
   "source": [
    "### 5. Histogram of Pupil-to-teacher Ratio variable"
   ]
  },
  {
   "cell_type": "code",
   "execution_count": 11,
   "id": "82ac87ee",
   "metadata": {},
   "outputs": [
    {
     "data": {
      "image/png": "[encoded data removed]",
      "text/plain": [
       "<Figure size 500x500 with 1 Axes>"
      ]
     },
     "metadata": {},
     "output_type": "display_data"
    }
   ],
   "source": [
    "# Create plot\n",
    "plot5 = sns.displot(boston_df['PTRATIO'], kde = False)\n",
    "plt.show()"
   ]
  },
  {
   "cell_type": "code",
   "execution_count": 12,
   "id": "4e7121d9",
   "metadata": {},
   "outputs": [
    {
     "data": {
      "text/plain": [
       "count    506.000000\n",
       "mean      18.455534\n",
       "std        2.164946\n",
       "min       12.600000\n",
       "25%       17.400000\n",
       "50%       19.050000\n",
       "75%       20.200000\n",
       "max       22.000000\n",
       "Name: PTRATIO, dtype: float64"
      ]
     },
     "execution_count": 12,
     "metadata": {},
     "output_type": "execute_result"
    }
   ],
   "source": [
    "# Review relevant statistics\n",
    "boston_df['PTRATIO'].describe()"
   ]
  },
  {
   "cell_type": "markdown",
   "id": "b55c6966",
   "metadata": {},
   "source": [
    "##### <span style=\"color:blue\">Explanation of findings:</span>\n",
    "<span style=\"color:blue\">The histogram shows a distribution that is slightly skewed left, with a median at 19 (19:1, pupils to teacher).  The mean is closer to 18.  The mode is clearly at about; that is the most common ratio.  Relatively few tracts had a ratio above the median, with the 75% mark landing at roughly 20.  </span>"
   ]
  },
  {
   "cell_type": "markdown",
   "id": "cbf39cac",
   "metadata": {},
   "source": [
    "# Task 5 - Hypothesis Testing"
   ]
  },
  {
   "cell_type": "markdown",
   "id": "638b927b",
   "metadata": {},
   "source": [
    "**QUESTION \\#1**: Is there a significant difference in median value of houses bounded by the Charles river or not? (T-test for independent samples)\n",
    "\n",
    "**HYPOTHESIS**: $H\\_0: μ\\_bounded = μ\\_unbounded$ (The average of the median home value for homes bounded by the Charles River is not different than the average median home value for homes not bounded by the Charles River)\n",
    "\n",
    "**ALTERNATIVE HYPOTHESIS**: $H\\_A: μ\\_bounded$ is not equal to $μ\\_unbounded$ (The average of the median home value for homes bounded by the Charles River is different than the average median home value for homes not bounded by the Charles River)\n",
    "\n",
    "**SIGNIFICANCE LEVEL**: α = 0.05"
   ]
  },
  {
   "cell_type": "code",
   "execution_count": 13,
   "id": "a9bab317",
   "metadata": {},
   "outputs": [
    {
     "data": {
      "text/plain": [
       "LeveneResult(statistic=8.75190489604598, pvalue=0.003238119367639829)"
      ]
     },
     "execution_count": 13,
     "metadata": {},
     "output_type": "execute_result"
    }
   ],
   "source": [
    "# Check significance of variance differences\n",
    "scipy.stats.levene(boston_df[boston_df['CHAS'] == 1]['MEDV'],\n",
    "                   boston_df[boston_df['CHAS'] == 0]['MEDV'], center='mean')"
   ]
  },
  {
   "cell_type": "markdown",
   "id": "9f05262a",
   "metadata": {},
   "source": [
    "<span style=\"color:blue\">Since the p-value is less than 0.05, the variance are not equal, and we will factor this into our t-test</span>"
   ]
  },
  {
   "cell_type": "code",
   "execution_count": 14,
   "id": "f9fa4152",
   "metadata": {},
   "outputs": [
    {
     "data": {
      "text/plain": [
       "Ttest_indResult(statistic=3.113291312794837, pvalue=0.003567170098137517)"
      ]
     },
     "execution_count": 14,
     "metadata": {},
     "output_type": "execute_result"
    }
   ],
   "source": [
    "# Perform T Test\n",
    "scipy.stats.ttest_ind(boston_df[boston_df['CHAS'] == 1]['MEDV'],\n",
    "                      boston_df[boston_df['CHAS'] == 0]['MEDV'], equal_var=False)"
   ]
  },
  {
   "cell_type": "markdown",
   "id": "6f1d8d80",
   "metadata": {},
   "source": [
    "#### <span style=\"color:blue\">Conclusion to Question 1</span>\n",
    "<span style=\"color:blue\">Since the p-value is less than alpha value 0.05, we reject the null hypothesis as there is enough evidence that there is a statistical difference in median home values depending on whether or not the housing tract borders the Charles River.  The answer to the basic question posed above is **YES, THERE IS REASON TO SUSPECT A SIGNIFICANT DIFFERENCE IN MEDIAN HOME PRICE WHEN BOUNDED OR NOT BY THE CHARLES RIVER**</span>"
   ]
  },
  {
   "cell_type": "markdown",
   "id": "ba11d01b",
   "metadata": {},
   "source": [
    "**QUESTION \\#2**: Is there a difference in Median values of houses (MEDV) for each proportion of owner occupied units built prior to 1940 (AGE)? (ANOVA)\n",
    "\n",
    "**HYPOTHESIS**: $H\\_0: The averages of the median home values, when grouped by AGE, are not signficantly different from one enother.\n",
    "\n",
    "**ALTERNATIVE HYPOTHESIS**: $H\\_A: The averages of the median home values, when grouped by AGE, are signficantly different from one enother.\n",
    "\n",
    "**SIGNIFICANCE LEVEL**: α = 0.05"
   ]
  },
  {
   "cell_type": "code",
   "execution_count": 15,
   "id": "74eeb264",
   "metadata": {},
   "outputs": [
    {
     "data": {
      "text/plain": [
       "LeveneResult(statistic=2.7806200293748304, pvalue=0.06295337343259205)"
      ]
     },
     "execution_count": 15,
     "metadata": {},
     "output_type": "execute_result"
    }
   ],
   "source": [
    "# Check significance of variance differences\n",
    "scipy.stats.levene(boston_df[boston_df['age_group'] == 'Less than 35']['MEDV'],\n",
    "                   boston_df[boston_df['age_group'] == '35 to 70']['MEDV'], \n",
    "                   boston_df[boston_df['age_group'] == 'Greater than 70']['MEDV'], \n",
    "                   center='mean')"
   ]
  },
  {
   "cell_type": "markdown",
   "id": "80438e5b",
   "metadata": {},
   "source": [
    "<span style=\"color:blue\">Since the p-value is greater than 0.05 we can assume equality of variance</span>"
   ]
  },
  {
   "cell_type": "code",
   "execution_count": 16,
   "id": "9ff87dad",
   "metadata": {},
   "outputs": [],
   "source": [
    "# Create new dataframes focused on age group and median home value\n",
    "thirtyfive_lower = boston_df[boston_df['age_group'] == 'Less than 35']['MEDV']\n",
    "thrirtyfive_seventy = boston_df[boston_df['age_group'] == '35 to 70']['MEDV']\n",
    "seventy_older = boston_df[boston_df['age_group'] == 'Greater than 70']['MEDV']"
   ]
  },
  {
   "cell_type": "code",
   "execution_count": 17,
   "id": "a87d264e",
   "metadata": {},
   "outputs": [
    {
     "name": "stdout",
     "output_type": "stream",
     "text": [
      "F_Statistic: 36.40764999196599, P-Value: 1.7105011022702984e-15\n"
     ]
    }
   ],
   "source": [
    "#Perform ANOVA tests\n",
    "f_statistic, p_value = scipy.stats.f_oneway(thirtyfive_lower, thrirtyfive_seventy, seventy_older)\n",
    "print(\"F_Statistic: {0}, P-Value: {1}\".format(f_statistic,p_value))"
   ]
  },
  {
   "cell_type": "markdown",
   "id": "d04a1d49",
   "metadata": {},
   "source": [
    "#### <span style=\"color:blue\">Conclusion to Question 2</span>\n",
    "<span style=\"color:blue\">Since the p-value is less than 0.05, we will reject the null hypothesis as there is significant evidence that at least one of the means for the median home values when grouped by their age differ.   The answer to the question is **YES, THERE IS REASON TO SUSPECT THAT THE 'AGE' CATEGORY GROUPS HAVE SIGNIFICANTLY DIFFERENT MEDIAN HOME VALUES.**</span>"
   ]
  },
  {
   "cell_type": "markdown",
   "id": "7dd7ea67",
   "metadata": {},
   "source": [
    "**QUESTION \\#3**: Can we conclude that there is no relationship between Nitric oxide concentrations and proportion of non-retail business acres per town? (Pearson Correlation)\n",
    "\n",
    "**HYPOTHESIS**: $H\\_0:$ Nitric Oxide Concentrations are not correlated with proportion of non-retail business acres per town\n",
    "\n",
    "**ALTERNATIVE HYPOTHESIS**:$H\\_A:$ Nitric Oxide Concentrations are correlated with proportion of non-retail business acres per town\n",
    "\n",
    "**SIGNIFICANCE LEVEL**: α = 0.05"
   ]
  },
  {
   "cell_type": "code",
   "execution_count": 19,
   "id": "5f6ae0bd",
   "metadata": {},
   "outputs": [
    {
     "ename": "KeyError",
     "evalue": "'INDUs'",
     "output_type": "error",
     "traceback": [
      "\u001b[1;31m---------------------------------------------------------------------------\u001b[0m",
      "\u001b[1;31mKeyError\u001b[0m                                  Traceback (most recent call last)",
      "File \u001b[1;32mC:\\ProgramData\\anaconda3\\Lib\\site-packages\\pandas\\core\\indexes\\base.py:3802\u001b[0m, in \u001b[0;36mIndex.get_loc\u001b[1;34m(self, key, method, tolerance)\u001b[0m\n\u001b[0;32m   3801\u001b[0m \u001b[38;5;28;01mtry\u001b[39;00m:\n\u001b[1;32m-> 3802\u001b[0m     \u001b[38;5;28;01mreturn\u001b[39;00m \u001b[38;5;28mself\u001b[39m\u001b[38;5;241m.\u001b[39m_engine\u001b[38;5;241m.\u001b[39mget_loc(casted_key)\n\u001b[0;32m   3803\u001b[0m \u001b[38;5;28;01mexcept\u001b[39;00m \u001b[38;5;167;01mKeyError\u001b[39;00m \u001b[38;5;28;01mas\u001b[39;00m err:\n",
      "File \u001b[1;32mC:\\ProgramData\\anaconda3\\Lib\\site-packages\\pandas\\_libs\\index.pyx:138\u001b[0m, in \u001b[0;36mpandas._libs.index.IndexEngine.get_loc\u001b[1;34m()\u001b[0m\n",
      "File \u001b[1;32mC:\\ProgramData\\anaconda3\\Lib\\site-packages\\pandas\\_libs\\index.pyx:165\u001b[0m, in \u001b[0;36mpandas._libs.index.IndexEngine.get_loc\u001b[1;34m()\u001b[0m\n",
      "File \u001b[1;32mpandas\\_libs\\hashtable_class_helper.pxi:5745\u001b[0m, in \u001b[0;36mpandas._libs.hashtable.PyObjectHashTable.get_item\u001b[1;34m()\u001b[0m\n",
      "File \u001b[1;32mpandas\\_libs\\hashtable_class_helper.pxi:5753\u001b[0m, in \u001b[0;36mpandas._libs.hashtable.PyObjectHashTable.get_item\u001b[1;34m()\u001b[0m\n",
      "\u001b[1;31mKeyError\u001b[0m: 'INDUs'",
      "\nThe above exception was the direct cause of the following exception:\n",
      "\u001b[1;31mKeyError\u001b[0m                                  Traceback (most recent call last)",
      "Cell \u001b[1;32mIn[19], line 2\u001b[0m\n\u001b[0;32m      1\u001b[0m \u001b[38;5;66;03m# Run Pearson Test\u001b[39;00m\n\u001b[1;32m----> 2\u001b[0m scipy\u001b[38;5;241m.\u001b[39mstats\u001b[38;5;241m.\u001b[39mpearsonr(boston_df[\u001b[38;5;124m'\u001b[39m\u001b[38;5;124mNOX\u001b[39m\u001b[38;5;124m'\u001b[39m], boston_df[\u001b[38;5;124m'\u001b[39m\u001b[38;5;124mINDUs\u001b[39m\u001b[38;5;124m'\u001b[39m])\n",
      "File \u001b[1;32mC:\\ProgramData\\anaconda3\\Lib\\site-packages\\pandas\\core\\frame.py:3807\u001b[0m, in \u001b[0;36mDataFrame.__getitem__\u001b[1;34m(self, key)\u001b[0m\n\u001b[0;32m   3805\u001b[0m \u001b[38;5;28;01mif\u001b[39;00m \u001b[38;5;28mself\u001b[39m\u001b[38;5;241m.\u001b[39mcolumns\u001b[38;5;241m.\u001b[39mnlevels \u001b[38;5;241m>\u001b[39m \u001b[38;5;241m1\u001b[39m:\n\u001b[0;32m   3806\u001b[0m     \u001b[38;5;28;01mreturn\u001b[39;00m \u001b[38;5;28mself\u001b[39m\u001b[38;5;241m.\u001b[39m_getitem_multilevel(key)\n\u001b[1;32m-> 3807\u001b[0m indexer \u001b[38;5;241m=\u001b[39m \u001b[38;5;28mself\u001b[39m\u001b[38;5;241m.\u001b[39mcolumns\u001b[38;5;241m.\u001b[39mget_loc(key)\n\u001b[0;32m   3808\u001b[0m \u001b[38;5;28;01mif\u001b[39;00m is_integer(indexer):\n\u001b[0;32m   3809\u001b[0m     indexer \u001b[38;5;241m=\u001b[39m [indexer]\n",
      "File \u001b[1;32mC:\\ProgramData\\anaconda3\\Lib\\site-packages\\pandas\\core\\indexes\\base.py:3804\u001b[0m, in \u001b[0;36mIndex.get_loc\u001b[1;34m(self, key, method, tolerance)\u001b[0m\n\u001b[0;32m   3802\u001b[0m     \u001b[38;5;28;01mreturn\u001b[39;00m \u001b[38;5;28mself\u001b[39m\u001b[38;5;241m.\u001b[39m_engine\u001b[38;5;241m.\u001b[39mget_loc(casted_key)\n\u001b[0;32m   3803\u001b[0m \u001b[38;5;28;01mexcept\u001b[39;00m \u001b[38;5;167;01mKeyError\u001b[39;00m \u001b[38;5;28;01mas\u001b[39;00m err:\n\u001b[1;32m-> 3804\u001b[0m     \u001b[38;5;28;01mraise\u001b[39;00m \u001b[38;5;167;01mKeyError\u001b[39;00m(key) \u001b[38;5;28;01mfrom\u001b[39;00m \u001b[38;5;21;01merr\u001b[39;00m\n\u001b[0;32m   3805\u001b[0m \u001b[38;5;28;01mexcept\u001b[39;00m \u001b[38;5;167;01mTypeError\u001b[39;00m:\n\u001b[0;32m   3806\u001b[0m     \u001b[38;5;66;03m# If we have a listlike key, _check_indexing_error will raise\u001b[39;00m\n\u001b[0;32m   3807\u001b[0m     \u001b[38;5;66;03m#  InvalidIndexError. Otherwise we fall through and re-raise\u001b[39;00m\n\u001b[0;32m   3808\u001b[0m     \u001b[38;5;66;03m#  the TypeError.\u001b[39;00m\n\u001b[0;32m   3809\u001b[0m     \u001b[38;5;28mself\u001b[39m\u001b[38;5;241m.\u001b[39m_check_indexing_error(key)\n",
      "\u001b[1;31mKeyError\u001b[0m: 'INDUs'"
     ]
    }
   ],
   "source": [
    "# Run Pearson Test\n",
    "scipy.stats.pearsonr(boston_df['NOX'], boston_df['INDUs'])"
   ]
  },
  {
   "cell_type": "markdown",
   "id": "b4061ead",
   "metadata": {},
   "source": [
    "#### <span style=\"color:blue\">Conclusion to Question 3</span>\n",
    "<span style=\"color:blue\">The p-value is extremely small; this gives us reason to reject the null hypothesis that these two values are not correlated.  The answer to the core question is **NO, THERE IS REASON TO SUSPECT THAT THE NITROUS OXIDE CONCENTRATIONS ARE CORRELATED WITH THE PROPORTION OF NON-RETAIL BUSINESS ACRES PER TOWN**.</span>"
   ]
  },
  {
   "cell_type": "markdown",
   "id": "44c3547d",
   "metadata": {},
   "source": [
    "**QUESTION \\#4**: What is the impact of an additional weighted distance to the five Boston employment centres on the median value of owner occupied homes? (Regression analysis)\n",
    "\n",
    "**HYPOTHESIS**: $H\\_0: β1$ = 0 (The weighted distance to the five Boston employment centres has no impact on the median value of owner occupied homes).\n",
    "\n",
    "**ALTERNATIVE HYPOTHESIS**: $H\\_A: β1$ is not equal to 0 (The weighted distance to the five Boston employment centres has a significant impact on the median value of owner occupied homes).\n",
    "\n",
    "**SIGNIFICANCE LEVEL**: α = 0.05"
   ]
  },
  {
   "cell_type": "code",
   "execution_count": 20,
   "id": "6bf4b5a0",
   "metadata": {},
   "outputs": [
    {
     "data": {
      "text/html": [
       "<table class=\"simpletable\">\n",
       "<caption>OLS Regression Results</caption>\n",
       "<tr>\n",
       "  <th>Dep. Variable:</th>          <td>MEDV</td>       <th>  R-squared:         </th> <td>   0.062</td>\n",
       "</tr>\n",
       "<tr>\n",
       "  <th>Model:</th>                   <td>OLS</td>       <th>  Adj. R-squared:    </th> <td>   0.061</td>\n",
       "</tr>\n",
       "<tr>\n",
       "  <th>Method:</th>             <td>Least Squares</td>  <th>  F-statistic:       </th> <td>   33.58</td>\n",
       "</tr>\n",
       "<tr>\n",
       "  <th>Date:</th>             <td>Wed, 06 Dec 2023</td> <th>  Prob (F-statistic):</th> <td>1.21e-08</td>\n",
       "</tr>\n",
       "<tr>\n",
       "  <th>Time:</th>                 <td>15:06:47</td>     <th>  Log-Likelihood:    </th> <td> -1823.9</td>\n",
       "</tr>\n",
       "<tr>\n",
       "  <th>No. Observations:</th>      <td>   506</td>      <th>  AIC:               </th> <td>   3652.</td>\n",
       "</tr>\n",
       "<tr>\n",
       "  <th>Df Residuals:</th>          <td>   504</td>      <th>  BIC:               </th> <td>   3660.</td>\n",
       "</tr>\n",
       "<tr>\n",
       "  <th>Df Model:</th>              <td>     1</td>      <th>                     </th>     <td> </td>   \n",
       "</tr>\n",
       "<tr>\n",
       "  <th>Covariance Type:</th>      <td>nonrobust</td>    <th>                     </th>     <td> </td>   \n",
       "</tr>\n",
       "</table>\n",
       "<table class=\"simpletable\">\n",
       "<tr>\n",
       "    <td></td>       <th>coef</th>     <th>std err</th>      <th>t</th>      <th>P>|t|</th>  <th>[0.025</th>    <th>0.975]</th>  \n",
       "</tr>\n",
       "<tr>\n",
       "  <th>const</th> <td>   18.3901</td> <td>    0.817</td> <td>   22.499</td> <td> 0.000</td> <td>   16.784</td> <td>   19.996</td>\n",
       "</tr>\n",
       "<tr>\n",
       "  <th>DIS</th>   <td>    1.0916</td> <td>    0.188</td> <td>    5.795</td> <td> 0.000</td> <td>    0.722</td> <td>    1.462</td>\n",
       "</tr>\n",
       "</table>\n",
       "<table class=\"simpletable\">\n",
       "<tr>\n",
       "  <th>Omnibus:</th>       <td>139.779</td> <th>  Durbin-Watson:     </th> <td>   0.570</td>\n",
       "</tr>\n",
       "<tr>\n",
       "  <th>Prob(Omnibus):</th> <td> 0.000</td>  <th>  Jarque-Bera (JB):  </th> <td> 305.104</td>\n",
       "</tr>\n",
       "<tr>\n",
       "  <th>Skew:</th>          <td> 1.466</td>  <th>  Prob(JB):          </th> <td>5.59e-67</td>\n",
       "</tr>\n",
       "<tr>\n",
       "  <th>Kurtosis:</th>      <td> 5.424</td>  <th>  Cond. No.          </th> <td>    9.32</td>\n",
       "</tr>\n",
       "</table><br/><br/>Notes:<br/>[1] Standard Errors assume that the covariance matrix of the errors is correctly specified."
      ],
      "text/latex": [
       "\\begin{center}\n",
       "\\begin{tabular}{lclc}\n",
       "\\toprule\n",
       "\\textbf{Dep. Variable:}    &       MEDV       & \\textbf{  R-squared:         } &     0.062   \\\\\n",
       "\\textbf{Model:}            &       OLS        & \\textbf{  Adj. R-squared:    } &     0.061   \\\\\n",
       "\\textbf{Method:}           &  Least Squares   & \\textbf{  F-statistic:       } &     33.58   \\\\\n",
       "\\textbf{Date:}             & Wed, 06 Dec 2023 & \\textbf{  Prob (F-statistic):} &  1.21e-08   \\\\\n",
       "\\textbf{Time:}             &     15:06:47     & \\textbf{  Log-Likelihood:    } &   -1823.9   \\\\\n",
       "\\textbf{No. Observations:} &         506      & \\textbf{  AIC:               } &     3652.   \\\\\n",
       "\\textbf{Df Residuals:}     &         504      & \\textbf{  BIC:               } &     3660.   \\\\\n",
       "\\textbf{Df Model:}         &           1      & \\textbf{                     } &             \\\\\n",
       "\\textbf{Covariance Type:}  &    nonrobust     & \\textbf{                     } &             \\\\\n",
       "\\bottomrule\n",
       "\\end{tabular}\n",
       "\\begin{tabular}{lcccccc}\n",
       "               & \\textbf{coef} & \\textbf{std err} & \\textbf{t} & \\textbf{P$> |$t$|$} & \\textbf{[0.025} & \\textbf{0.975]}  \\\\\n",
       "\\midrule\n",
       "\\textbf{const} &      18.3901  &        0.817     &    22.499  &         0.000        &       16.784    &       19.996     \\\\\n",
       "\\textbf{DIS}   &       1.0916  &        0.188     &     5.795  &         0.000        &        0.722    &        1.462     \\\\\n",
       "\\bottomrule\n",
       "\\end{tabular}\n",
       "\\begin{tabular}{lclc}\n",
       "\\textbf{Omnibus:}       & 139.779 & \\textbf{  Durbin-Watson:     } &    0.570  \\\\\n",
       "\\textbf{Prob(Omnibus):} &   0.000 & \\textbf{  Jarque-Bera (JB):  } &  305.104  \\\\\n",
       "\\textbf{Skew:}          &   1.466 & \\textbf{  Prob(JB):          } & 5.59e-67  \\\\\n",
       "\\textbf{Kurtosis:}      &   5.424 & \\textbf{  Cond. No.          } &     9.32  \\\\\n",
       "\\bottomrule\n",
       "\\end{tabular}\n",
       "%\\caption{OLS Regression Results}\n",
       "\\end{center}\n",
       "\n",
       "Notes: \\newline\n",
       " [1] Standard Errors assume that the covariance matrix of the errors is correctly specified."
      ],
      "text/plain": [
       "<class 'statsmodels.iolib.summary.Summary'>\n",
       "\"\"\"\n",
       "                            OLS Regression Results                            \n",
       "==============================================================================\n",
       "Dep. Variable:                   MEDV   R-squared:                       0.062\n",
       "Model:                            OLS   Adj. R-squared:                  0.061\n",
       "Method:                 Least Squares   F-statistic:                     33.58\n",
       "Date:                Wed, 06 Dec 2023   Prob (F-statistic):           1.21e-08\n",
       "Time:                        15:06:47   Log-Likelihood:                -1823.9\n",
       "No. Observations:                 506   AIC:                             3652.\n",
       "Df Residuals:                     504   BIC:                             3660.\n",
       "Df Model:                           1                                         \n",
       "Covariance Type:            nonrobust                                         \n",
       "==============================================================================\n",
       "                 coef    std err          t      P>|t|      [0.025      0.975]\n",
       "------------------------------------------------------------------------------\n",
       "const         18.3901      0.817     22.499      0.000      16.784      19.996\n",
       "DIS            1.0916      0.188      5.795      0.000       0.722       1.462\n",
       "==============================================================================\n",
       "Omnibus:                      139.779   Durbin-Watson:                   0.570\n",
       "Prob(Omnibus):                  0.000   Jarque-Bera (JB):              305.104\n",
       "Skew:                           1.466   Prob(JB):                     5.59e-67\n",
       "Kurtosis:                       5.424   Cond. No.                         9.32\n",
       "==============================================================================\n",
       "\n",
       "Notes:\n",
       "[1] Standard Errors assume that the covariance matrix of the errors is correctly specified.\n",
       "\"\"\""
      ]
     },
     "execution_count": 20,
     "metadata": {},
     "output_type": "execute_result"
    }
   ],
   "source": [
    "# Setup and run Regression Analysis\n",
    "X = boston_df['DIS']\n",
    "y = boston_df['MEDV']\n",
    "X = sm.add_constant(X) \n",
    "model = sm.OLS(y, X).fit()\n",
    "predictions = model.predict(X)\n",
    "model.summary()"
   ]
  },
  {
   "cell_type": "markdown",
   "id": "5f27cf96",
   "metadata": {},
   "source": [
    "#### <span style=\"color:blue\">Conclusion to Question 4</span>\n",
    "<span style=\"color:blue\">The coefficient related to the DIS independent variable is 1.0916.  The p-value associated with this value is very small, so there is reason to reject the null hypothesis that the weighted distance to the five main Boston employment centers has no impact on the median home value.  It also indicates-- and this answers the question-- that **FOR EVERY UNIT INCREASE IN DIS, THE MEDIAN HOME VALUE INCREASES BY NEARLY \\$1,000**.  The correlation coefficient of roughly 0.24 also indicates that these two values are correlated.</span>"
   ]
  }
 ],
 "metadata": {
  "kernelspec": {
   "display_name": "Python 3 (ipykernel)",
   "language": "python",
   "name": "python3"
  },
  "language_info": {
   "codemirror_mode": {
    "name": "ipython",
    "version": 3
   },
   "file_extension": ".py",
   "mimetype": "text/x-python",
   "name": "python",
   "nbconvert_exporter": "python",
   "pygments_lexer": "ipython3",
   "version": "3.11.4"
  }
 },
 "nbformat": 4,
 "nbformat_minor": 5
}
